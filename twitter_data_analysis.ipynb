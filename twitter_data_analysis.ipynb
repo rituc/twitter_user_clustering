{
 "cells": [
  {
   "cell_type": "code",
   "execution_count": 8,
   "metadata": {
    "collapsed": false
   },
   "outputs": [],
   "source": [
    "import pandas as pd\n",
    "from sklearn.feature_extraction.text import TfidfVectorizer\n",
    "from nltk.corpus import stopwords\n",
    "from sklearn.cluster import KMeans\n",
    "import nltk"
   ]
  },
  {
   "cell_type": "code",
   "execution_count": 9,
   "metadata": {
    "collapsed": false
   },
   "outputs": [],
   "source": [
    "stopwords = stopwords.words(\"english\")"
   ]
  },
  {
   "cell_type": "code",
   "execution_count": 10,
   "metadata": {
    "collapsed": true
   },
   "outputs": [],
   "source": [
    "def get_stats(group):\n",
    "    return {'count': group.count()}\n",
    "\n",
    "def grouped_data_stats(df, col_name):\n",
    "    dataset = df[col_name].groupby(df[col_name])\n",
    "    stats = dataset.apply(get_stats).unstack()\n",
    "    return stats.sort(['count'], ascending=[0])"
   ]
  },
  {
   "cell_type": "code",
   "execution_count": 11,
   "metadata": {
    "collapsed": false
   },
   "outputs": [],
   "source": [
    "data = pd.read_csv(\"/Users/rituc/twitter_data/stream_table1.csv\")"
   ]
  },
  {
   "cell_type": "code",
   "execution_count": 12,
   "metadata": {
    "collapsed": false
   },
   "outputs": [
    {
     "data": {
      "text/plain": [
       "65499"
      ]
     },
     "execution_count": 12,
     "metadata": {},
     "output_type": "execute_result"
    }
   ],
   "source": [
    "len(data)"
   ]
  },
  {
   "cell_type": "code",
   "execution_count": 13,
   "metadata": {
    "collapsed": false
   },
   "outputs": [
    {
     "data": {
      "text/plain": [
       "Index([u'Tweet Id', u'Date', u'Hour', u'User Name', u'Nickname', u'Bio',\n",
       "       u'Tweet content', u'Favs', u'RTs', u'Latitude', u'Longitude',\n",
       "       u'Country', u'Place (as appears on Bio)', u'Profile picture',\n",
       "       u'Followers', u'Following', u'Listed', u'Tweet language (ISO 639-1)',\n",
       "       u'Tweet Url'],\n",
       "      dtype='object')"
      ]
     },
     "execution_count": 13,
     "metadata": {},
     "output_type": "execute_result"
    }
   ],
   "source": [
    "data.columns"
   ]
  },
  {
   "cell_type": "code",
   "execution_count": 15,
   "metadata": {
    "collapsed": false
   },
   "outputs": [],
   "source": [
    "# data"
   ]
  },
  {
   "cell_type": "code",
   "execution_count": 21,
   "metadata": {
    "collapsed": false
   },
   "outputs": [],
   "source": [
    "bio = list(data[\"Bio\"])"
   ]
  },
  {
   "cell_type": "code",
   "execution_count": 23,
   "metadata": {
    "collapsed": false
   },
   "outputs": [],
   "source": [
    "# bio"
   ]
  },
  {
   "cell_type": "code",
   "execution_count": 24,
   "metadata": {
    "collapsed": false
   },
   "outputs": [
    {
     "name": "stderr",
     "output_type": "stream",
     "text": [
      "/Users/rituc/anaconda2/lib/python2.7/site-packages/ipykernel/__main__.py:7: FutureWarning: sort(columns=....) is deprecated, use sort_values(by=.....)\n"
     ]
    },
    {
     "data": {
      "text/html": [
       "<div>\n",
       "<table border=\"1\" class=\"dataframe\">\n",
       "  <thead>\n",
       "    <tr style=\"text-align: right;\">\n",
       "      <th></th>\n",
       "      <th>count</th>\n",
       "    </tr>\n",
       "    <tr>\n",
       "      <th>User Name</th>\n",
       "      <th></th>\n",
       "    </tr>\n",
       "  </thead>\n",
       "  <tbody>\n",
       "    <tr>\n",
       "      <th>511 New York</th>\n",
       "      <td>403</td>\n",
       "    </tr>\n",
       "    <tr>\n",
       "      <th>Winn-Dixie Careers</th>\n",
       "      <td>280</td>\n",
       "    </tr>\n",
       "    <tr>\n",
       "      <th>CVS Health Jobs</th>\n",
       "      <td>241</td>\n",
       "    </tr>\n",
       "    <tr>\n",
       "      <th>SONIC Jobs</th>\n",
       "      <td>198</td>\n",
       "    </tr>\n",
       "    <tr>\n",
       "      <th>SHC Careers</th>\n",
       "      <td>176</td>\n",
       "    </tr>\n",
       "    <tr>\n",
       "      <th>Vitamin Shoppe Jobs</th>\n",
       "      <td>172</td>\n",
       "    </tr>\n",
       "    <tr>\n",
       "      <th>Favorite Jobs</th>\n",
       "      <td>158</td>\n",
       "    </tr>\n",
       "    <tr>\n",
       "      <th>DineHere.us</th>\n",
       "      <td>152</td>\n",
       "    </tr>\n",
       "    <tr>\n",
       "      <th>CompassUSAJobBoard</th>\n",
       "      <td>147</td>\n",
       "    </tr>\n",
       "    <tr>\n",
       "      <th>Sunrise Careers</th>\n",
       "      <td>136</td>\n",
       "    </tr>\n",
       "    <tr>\n",
       "      <th>Virtual Jukebox</th>\n",
       "      <td>131</td>\n",
       "    </tr>\n",
       "    <tr>\n",
       "      <th>Mercy Jobs</th>\n",
       "      <td>128</td>\n",
       "    </tr>\n",
       "    <tr>\n",
       "      <th>AHCStaff</th>\n",
       "      <td>121</td>\n",
       "    </tr>\n",
       "    <tr>\n",
       "      <th>fulltimeGiGS Jobs</th>\n",
       "      <td>120</td>\n",
       "    </tr>\n",
       "    <tr>\n",
       "      <th>Nevada City Weather</th>\n",
       "      <td>102</td>\n",
       "    </tr>\n",
       "    <tr>\n",
       "      <th>AvalonBay Jobs</th>\n",
       "      <td>101</td>\n",
       "    </tr>\n",
       "    <tr>\n",
       "      <th>HMSHost Jobs</th>\n",
       "      <td>97</td>\n",
       "    </tr>\n",
       "    <tr>\n",
       "      <th>Speedway Jobs</th>\n",
       "      <td>90</td>\n",
       "    </tr>\n",
       "    <tr>\n",
       "      <th>James Wolter</th>\n",
       "      <td>80</td>\n",
       "    </tr>\n",
       "    <tr>\n",
       "      <th>alejandro santiago</th>\n",
       "      <td>78</td>\n",
       "    </tr>\n",
       "    <tr>\n",
       "      <th>Toronto Fire</th>\n",
       "      <td>77</td>\n",
       "    </tr>\n",
       "    <tr>\n",
       "      <th>Ebb Tide Bot</th>\n",
       "      <td>73</td>\n",
       "    </tr>\n",
       "    <tr>\n",
       "      <th>Tyco Careers</th>\n",
       "      <td>71</td>\n",
       "    </tr>\n",
       "    <tr>\n",
       "      <th>Jobs at VA</th>\n",
       "      <td>69</td>\n",
       "    </tr>\n",
       "    <tr>\n",
       "      <th>yaj</th>\n",
       "      <td>66</td>\n",
       "    </tr>\n",
       "    <tr>\n",
       "      <th>Cheri Quinn</th>\n",
       "      <td>66</td>\n",
       "    </tr>\n",
       "    <tr>\n",
       "      <th>INSTITUTO  YITS'ATIL</th>\n",
       "      <td>65</td>\n",
       "    </tr>\n",
       "    <tr>\n",
       "      <th>Sutter Health Jobs</th>\n",
       "      <td>64</td>\n",
       "    </tr>\n",
       "    <tr>\n",
       "      <th>SF311 Reports</th>\n",
       "      <td>59</td>\n",
       "    </tr>\n",
       "    <tr>\n",
       "      <th>Kenny</th>\n",
       "      <td>58</td>\n",
       "    </tr>\n",
       "    <tr>\n",
       "      <th>...</th>\n",
       "      <td>...</td>\n",
       "    </tr>\n",
       "    <tr>\n",
       "      <th>Jared Kane</th>\n",
       "      <td>1</td>\n",
       "    </tr>\n",
       "    <tr>\n",
       "      <th>Jaren Christopher.</th>\n",
       "      <td>1</td>\n",
       "    </tr>\n",
       "    <tr>\n",
       "      <th>Jarel J</th>\n",
       "      <td>1</td>\n",
       "    </tr>\n",
       "    <tr>\n",
       "      <th>Jared Whitelaw</th>\n",
       "      <td>1</td>\n",
       "    </tr>\n",
       "    <tr>\n",
       "      <th>Jared Toro</th>\n",
       "      <td>1</td>\n",
       "    </tr>\n",
       "    <tr>\n",
       "      <th>Jared Scott Gregory</th>\n",
       "      <td>1</td>\n",
       "    </tr>\n",
       "    <tr>\n",
       "      <th>Jared Scott Friesen</th>\n",
       "      <td>1</td>\n",
       "    </tr>\n",
       "    <tr>\n",
       "      <th>Jared Saia</th>\n",
       "      <td>1</td>\n",
       "    </tr>\n",
       "    <tr>\n",
       "      <th>Jared Reeves</th>\n",
       "      <td>1</td>\n",
       "    </tr>\n",
       "    <tr>\n",
       "      <th>Jared Preslar</th>\n",
       "      <td>1</td>\n",
       "    </tr>\n",
       "    <tr>\n",
       "      <th>Jared Pomranky</th>\n",
       "      <td>1</td>\n",
       "    </tr>\n",
       "    <tr>\n",
       "      <th>Jared Paulin</th>\n",
       "      <td>1</td>\n",
       "    </tr>\n",
       "    <tr>\n",
       "      <th>Jared Pakele</th>\n",
       "      <td>1</td>\n",
       "    </tr>\n",
       "    <tr>\n",
       "      <th>Jared Meredith™</th>\n",
       "      <td>1</td>\n",
       "    </tr>\n",
       "    <tr>\n",
       "      <th>Jared Jones</th>\n",
       "      <td>1</td>\n",
       "    </tr>\n",
       "    <tr>\n",
       "      <th>Jano</th>\n",
       "      <td>1</td>\n",
       "    </tr>\n",
       "    <tr>\n",
       "      <th>Jared Harrison</th>\n",
       "      <td>1</td>\n",
       "    </tr>\n",
       "    <tr>\n",
       "      <th>Jared Galatowitsch</th>\n",
       "      <td>1</td>\n",
       "    </tr>\n",
       "    <tr>\n",
       "      <th>Jared Ellis</th>\n",
       "      <td>1</td>\n",
       "    </tr>\n",
       "    <tr>\n",
       "      <th>Jared Cardwell</th>\n",
       "      <td>1</td>\n",
       "    </tr>\n",
       "    <tr>\n",
       "      <th>Jared Brown</th>\n",
       "      <td>1</td>\n",
       "    </tr>\n",
       "    <tr>\n",
       "      <th>Jared Ball</th>\n",
       "      <td>1</td>\n",
       "    </tr>\n",
       "    <tr>\n",
       "      <th>Jared</th>\n",
       "      <td>1</td>\n",
       "    </tr>\n",
       "    <tr>\n",
       "      <th>Jaquie</th>\n",
       "      <td>1</td>\n",
       "    </tr>\n",
       "    <tr>\n",
       "      <th>Jaqueline Toriz</th>\n",
       "      <td>1</td>\n",
       "    </tr>\n",
       "    <tr>\n",
       "      <th>JapaneseKnifeImports</th>\n",
       "      <td>1</td>\n",
       "    </tr>\n",
       "    <tr>\n",
       "      <th>January Boten</th>\n",
       "      <td>1</td>\n",
       "    </tr>\n",
       "    <tr>\n",
       "      <th>Jansen Clifton©</th>\n",
       "      <td>1</td>\n",
       "    </tr>\n",
       "    <tr>\n",
       "      <th>Jano Libres</th>\n",
       "      <td>1</td>\n",
       "    </tr>\n",
       "    <tr>\n",
       "      <th>ｪ࿆</th>\n",
       "      <td>1</td>\n",
       "    </tr>\n",
       "  </tbody>\n",
       "</table>\n",
       "<p>37825 rows × 1 columns</p>\n",
       "</div>"
      ],
      "text/plain": [
       "                      count\n",
       "User Name                  \n",
       "511 New York            403\n",
       "Winn-Dixie Careers      280\n",
       "CVS Health Jobs         241\n",
       "SONIC Jobs              198\n",
       "SHC Careers             176\n",
       "Vitamin Shoppe Jobs     172\n",
       "Favorite Jobs           158\n",
       "DineHere.us             152\n",
       "CompassUSAJobBoard      147\n",
       "Sunrise Careers         136\n",
       "Virtual Jukebox         131\n",
       "Mercy Jobs              128\n",
       "AHCStaff                121\n",
       "fulltimeGiGS Jobs       120\n",
       "Nevada City Weather     102\n",
       "AvalonBay Jobs          101\n",
       "HMSHost Jobs             97\n",
       "Speedway Jobs            90\n",
       "James Wolter             80\n",
       "alejandro santiago       78\n",
       "Toronto Fire             77\n",
       "Ebb Tide Bot             73\n",
       "Tyco Careers             71\n",
       "Jobs at VA               69\n",
       "yaj                      66\n",
       "Cheri Quinn              66\n",
       "INSTITUTO  YITS'ATIL     65\n",
       "Sutter Health Jobs       64\n",
       "SF311 Reports            59\n",
       "Kenny                    58\n",
       "...                     ...\n",
       "Jared Kane                1\n",
       "Jaren Christopher.        1\n",
       "Jarel J                   1\n",
       "Jared Whitelaw            1\n",
       "Jared Toro                1\n",
       "Jared Scott Gregory       1\n",
       "Jared Scott Friesen       1\n",
       "Jared Saia                1\n",
       "Jared Reeves              1\n",
       "Jared Preslar             1\n",
       "Jared Pomranky            1\n",
       "Jared Paulin              1\n",
       "Jared Pakele              1\n",
       "Jared Meredith™           1\n",
       "Jared Jones               1\n",
       "Jano                      1\n",
       "Jared Harrison            1\n",
       "Jared Galatowitsch        1\n",
       "Jared Ellis               1\n",
       "Jared Cardwell            1\n",
       "Jared Brown               1\n",
       "Jared Ball                1\n",
       "Jared                     1\n",
       "Jaquie                    1\n",
       "Jaqueline Toriz           1\n",
       "JapaneseKnifeImports      1\n",
       "January Boten             1\n",
       "Jansen Clifton©           1\n",
       "Jano Libres               1\n",
       "ｪ࿆                        1\n",
       "\n",
       "[37825 rows x 1 columns]"
      ]
     },
     "execution_count": 24,
     "metadata": {},
     "output_type": "execute_result"
    }
   ],
   "source": [
    "grouped_data_stats(data, \"User Name\")"
   ]
  },
  {
   "cell_type": "code",
   "execution_count": 25,
   "metadata": {
    "collapsed": false
   },
   "outputs": [],
   "source": [
    "tweets = data[\"Tweet content\"]"
   ]
  },
  {
   "cell_type": "code",
   "execution_count": 15,
   "metadata": {
    "collapsed": true
   },
   "outputs": [],
   "source": [
    "def tokenize_and_stem(text):\n",
    "#     text = unicode(text, errors='replace')\n",
    "    # first tokenize by sentence, then by word to ensure that punctuation is caught as it's own token\n",
    "    tokens = [word for sent in nltk.sent_tokenize(text.decode('utf-8')) for word in nltk.word_tokenize(sent.decode('utf-8'))]\n",
    "    filtered_tokens = []\n",
    "    # filter out any tokens not containing letters (e.g., numeric tokens, raw punctuation)\n",
    "    for token in tokens:\n",
    "        if re.search('[a-zA-Z]', token):\n",
    "            filtered_tokens.append(token)\n",
    "    stems = [stemmer.stem(t) for t in filtered_tokens]\n",
    "    return stems"
   ]
  },
  {
   "cell_type": "code",
   "execution_count": 13,
   "metadata": {
    "collapsed": true
   },
   "outputs": [],
   "source": [
    "import sys  \n",
    "import re\n",
    "reload(sys)  \n",
    "sys.setdefaultencoding('utf8')\n",
    "from nltk.stem.snowball import SnowballStemmer\n",
    "stemmer = SnowballStemmer(\"english\")\n",
    "import codecs"
   ]
  },
  {
   "cell_type": "code",
   "execution_count": 14,
   "metadata": {
    "collapsed": false
   },
   "outputs": [],
   "source": [
    "#not super pythonic, no, not at all.\n",
    "#use extend so it's a big flat list of vocab\n",
    "totalvocab_stemmed = []\n",
    "totalvocab_tokenized = []\n",
    "for i in tweets:\n",
    "    allwords_stemmed = tokenize_and_stem(i) #for each item in 'synopses', tokenize/stem\n",
    "    totalvocab_stemmed.extend(allwords_stemmed) #extend the 'totalvocab_stemmed' list\n",
    "    \n",
    "#     allwords_tokenized = tokenize_only(i)\n",
    "#     totalvocab_tokenized.extend(allwords_tokenized)"
   ]
  },
  {
   "cell_type": "code",
   "execution_count": 16,
   "metadata": {
    "collapsed": true
   },
   "outputs": [],
   "source": [
    "vocab_frame = pd.DataFrame({'words': totalvocab_stemmed}, index = totalvocab_stemmed)"
   ]
  },
  {
   "cell_type": "code",
   "execution_count": 17,
   "metadata": {
    "collapsed": true
   },
   "outputs": [],
   "source": [
    "tfidf_vectorizer = TfidfVectorizer(min_df=5, max_df=0.8, stop_words=stopwords, max_features=20000)"
   ]
  },
  {
   "cell_type": "code",
   "execution_count": 18,
   "metadata": {
    "collapsed": false
   },
   "outputs": [],
   "source": [
    "tfidf_matrix = tfidf_vectorizer.fit_transform(tweets)"
   ]
  },
  {
   "cell_type": "code",
   "execution_count": 19,
   "metadata": {
    "collapsed": false
   },
   "outputs": [],
   "source": [
    "terms = tfidf_vectorizer.get_feature_names()"
   ]
  },
  {
   "cell_type": "code",
   "execution_count": 7,
   "metadata": {
    "collapsed": false
   },
   "outputs": [],
   "source": [
    "# terms"
   ]
  },
  {
   "cell_type": "code",
   "execution_count": 21,
   "metadata": {
    "collapsed": false
   },
   "outputs": [
    {
     "data": {
      "text/plain": [
       "(65499, 11251)"
      ]
     },
     "execution_count": 21,
     "metadata": {},
     "output_type": "execute_result"
    }
   ],
   "source": [
    "tfidf_matrix.shape"
   ]
  },
  {
   "cell_type": "code",
   "execution_count": 37,
   "metadata": {
    "collapsed": true
   },
   "outputs": [],
   "source": [
    "km = KMeans(n_clusters=100)"
   ]
  },
  {
   "cell_type": "code",
   "execution_count": 38,
   "metadata": {
    "collapsed": false
   },
   "outputs": [
    {
     "data": {
      "text/plain": [
       "array([[ 1.12452538,  1.10347131,  1.04802324, ...,  1.13941057,\n",
       "         1.0383493 ,  0.70750375],\n",
       "       [ 1.12343891,  1.10353445,  1.03626849, ...,  1.13941057,\n",
       "         0.9864526 ,  1.2224683 ],\n",
       "       [ 1.12249743,  1.10321122,  1.04732999, ...,  1.13829558,\n",
       "         1.03883599,  1.2224683 ],\n",
       "       ..., \n",
       "       [ 1.12452538,  1.10363403,  1.04810103, ...,  1.13696802,\n",
       "         1.03863898,  1.2224683 ],\n",
       "       [ 1.11373546,  1.1035651 ,  1.04798429, ...,  1.13791088,\n",
       "         1.03876922,  1.2224683 ],\n",
       "       [ 1.12319521,  1.10363403,  1.04773422, ...,  1.13693713,\n",
       "         1.03875732,  1.2224683 ]])"
      ]
     },
     "execution_count": 38,
     "metadata": {},
     "output_type": "execute_result"
    }
   ],
   "source": [
    "km.fit_transform(tfidf_matrix)"
   ]
  },
  {
   "cell_type": "code",
   "execution_count": 39,
   "metadata": {
    "collapsed": false
   },
   "outputs": [],
   "source": [
    "clusters = km.labels_.tolist()"
   ]
  },
  {
   "cell_type": "code",
   "execution_count": 40,
   "metadata": {
    "collapsed": true
   },
   "outputs": [],
   "source": [
    "users = list(data[\"Nickname\"])"
   ]
  },
  {
   "cell_type": "code",
   "execution_count": 41,
   "metadata": {
    "collapsed": false
   },
   "outputs": [],
   "source": [
    "tweet_data = { 'Nickname': users, 'tweet': tweets, 'cluster': clusters}\n",
    "\n",
    "frame = pd.DataFrame(tweet_data, index = [clusters] , columns = ['Nickname', 'tweet', 'cluster'])"
   ]
  },
  {
   "cell_type": "code",
   "execution_count": 42,
   "metadata": {
    "collapsed": false
   },
   "outputs": [
    {
     "data": {
      "text/html": [
       "<div>\n",
       "<table border=\"1\" class=\"dataframe\">\n",
       "  <thead>\n",
       "    <tr style=\"text-align: right;\">\n",
       "      <th></th>\n",
       "      <th>Nickname</th>\n",
       "      <th>tweet</th>\n",
       "      <th>cluster</th>\n",
       "    </tr>\n",
       "  </thead>\n",
       "  <tbody>\n",
       "    <tr>\n",
       "      <th>99</th>\n",
       "      <td>BillSchulhoff</td>\n",
       "      <td>#EmergencyMedicine alert: Patient Care Associa...</td>\n",
       "      <td>99</td>\n",
       "    </tr>\n",
       "    <tr>\n",
       "      <th>98</th>\n",
       "      <td>danipolis</td>\n",
       "      <td>Buen día, ya listo para irme al #gym \\n\\nPrínc...</td>\n",
       "      <td>98</td>\n",
       "    </tr>\n",
       "    <tr>\n",
       "      <th>4</th>\n",
       "      <td>KJacobs27</td>\n",
       "      <td>Egg in a muffin!!! (@ Rocket Baby Bakery - @ro...</td>\n",
       "      <td>4</td>\n",
       "    </tr>\n",
       "    <tr>\n",
       "      <th>4</th>\n",
       "      <td>stncurtis</td>\n",
       "      <td>Egg in a muffin!!! (@ Rocket Baby Bakery - @ro...</td>\n",
       "      <td>4</td>\n",
       "    </tr>\n",
       "    <tr>\n",
       "      <th>4</th>\n",
       "      <td>wi_borzo</td>\n",
       "      <td>Egg in a muffin!!! (@ Rocket Baby Bakery - @ro...</td>\n",
       "      <td>4</td>\n",
       "    </tr>\n",
       "    <tr>\n",
       "      <th>4</th>\n",
       "      <td>KirstinMerrell</td>\n",
       "      <td>Egg in a muffin!!! (@ Rocket Baby Bakery - @ro...</td>\n",
       "      <td>4</td>\n",
       "    </tr>\n",
       "    <tr>\n",
       "      <th>4</th>\n",
       "      <td>Jkosches86</td>\n",
       "      <td>Egg in a muffin!!! (@ Rocket Baby Bakery - @ro...</td>\n",
       "      <td>4</td>\n",
       "    </tr>\n",
       "    <tr>\n",
       "      <th>57</th>\n",
       "      <td>tmj_pa_retail</td>\n",
       "      <td>Interested in a #Transportation #job near #Ced...</td>\n",
       "      <td>57</td>\n",
       "    </tr>\n",
       "    <tr>\n",
       "      <th>4</th>\n",
       "      <td>Vonfandango</td>\n",
       "      <td>Egg in a muffin!!! (@ Rocket Baby Bakery - @ro...</td>\n",
       "      <td>4</td>\n",
       "    </tr>\n",
       "    <tr>\n",
       "      <th>17</th>\n",
       "      <td>tmj_bal_jobs</td>\n",
       "      <td>#Engineering #Job alert: Prod Engr - Software ...</td>\n",
       "      <td>17</td>\n",
       "    </tr>\n",
       "    <tr>\n",
       "      <th>63</th>\n",
       "      <td>tmj_md_retail</td>\n",
       "      <td>Want to work in ? View our latest opening: htt...</td>\n",
       "      <td>63</td>\n",
       "    </tr>\n",
       "    <tr>\n",
       "      <th>4</th>\n",
       "      <td>gkalkat</td>\n",
       "      <td>Egg in a muffin!!! (@ Rocket Baby Bakery - @ro...</td>\n",
       "      <td>4</td>\n",
       "    </tr>\n",
       "    <tr>\n",
       "      <th>4</th>\n",
       "      <td>GodsNaturalDiva</td>\n",
       "      <td>Egg in a muffin!!! (@ Rocket Baby Bakery - @ro...</td>\n",
       "      <td>4</td>\n",
       "    </tr>\n",
       "    <tr>\n",
       "      <th>4</th>\n",
       "      <td>sarahkehoe</td>\n",
       "      <td>Egg in a muffin!!! (@ Rocket Baby Bakery - @ro...</td>\n",
       "      <td>4</td>\n",
       "    </tr>\n",
       "    <tr>\n",
       "      <th>79</th>\n",
       "      <td>tmj_bos_health</td>\n",
       "      <td>Join the Good Samaritan Hospital team! See our...</td>\n",
       "      <td>79</td>\n",
       "    </tr>\n",
       "    <tr>\n",
       "      <th>79</th>\n",
       "      <td>JohnHancockJobs</td>\n",
       "      <td>Join the Good Samaritan Hospital team! See our...</td>\n",
       "      <td>79</td>\n",
       "    </tr>\n",
       "    <tr>\n",
       "      <th>4</th>\n",
       "      <td>vaidyeah33</td>\n",
       "      <td>Egg in a muffin!!! (@ Rocket Baby Bakery - @ro...</td>\n",
       "      <td>4</td>\n",
       "    </tr>\n",
       "    <tr>\n",
       "      <th>63</th>\n",
       "      <td>tmj_dtw_eng</td>\n",
       "      <td>Want to work in ? View our latest opening: htt...</td>\n",
       "      <td>63</td>\n",
       "    </tr>\n",
       "    <tr>\n",
       "      <th>47</th>\n",
       "      <td>tmj_atl_it</td>\n",
       "      <td>South African send off! #sarahbolen #SarahPreA...</td>\n",
       "      <td>47</td>\n",
       "    </tr>\n",
       "    <tr>\n",
       "      <th>3</th>\n",
       "      <td>N_Master101</td>\n",
       "      <td>@gratefuldead recordstoredayus 🌹🌹🌹 @ TOMS M...</td>\n",
       "      <td>3</td>\n",
       "    </tr>\n",
       "    <tr>\n",
       "      <th>4</th>\n",
       "      <td>VickyGFitness</td>\n",
       "      <td>Egg in a muffin!!! (@ Rocket Baby Bakery - @ro...</td>\n",
       "      <td>4</td>\n",
       "    </tr>\n",
       "    <tr>\n",
       "      <th>4</th>\n",
       "      <td>andrerivera801</td>\n",
       "      <td>Egg in a muffin!!! (@ Rocket Baby Bakery - @ro...</td>\n",
       "      <td>4</td>\n",
       "    </tr>\n",
       "    <tr>\n",
       "      <th>87</th>\n",
       "      <td>PolaBonita</td>\n",
       "      <td>I'm at Virginia Tech - @vtnews in Blacksburg, ...</td>\n",
       "      <td>87</td>\n",
       "    </tr>\n",
       "    <tr>\n",
       "      <th>56</th>\n",
       "      <td>tmj_VAF_HRTA</td>\n",
       "      <td>Mis campeones!! #doralparks , #nikerunning , #...</td>\n",
       "      <td>56</td>\n",
       "    </tr>\n",
       "    <tr>\n",
       "      <th>57</th>\n",
       "      <td>tmj_nc_retail</td>\n",
       "      <td>Interested in a #Transportation #job near #Ced...</td>\n",
       "      <td>57</td>\n",
       "    </tr>\n",
       "    <tr>\n",
       "      <th>4</th>\n",
       "      <td>AlanElGrande_1</td>\n",
       "      <td>Egg in a muffin!!! (@ Rocket Baby Bakery - @ro...</td>\n",
       "      <td>4</td>\n",
       "    </tr>\n",
       "    <tr>\n",
       "      <th>1</th>\n",
       "      <td>tmj_ga_manuf</td>\n",
       "      <td>Pausa pro café antes de embarcar no próximo vô...</td>\n",
       "      <td>1</td>\n",
       "    </tr>\n",
       "    <tr>\n",
       "      <th>67</th>\n",
       "      <td>tmj_NJ_sales</td>\n",
       "      <td>#Fayetteville, NC #Job: LPN / Licensed Practic...</td>\n",
       "      <td>67</td>\n",
       "    </tr>\n",
       "    <tr>\n",
       "      <th>17</th>\n",
       "      <td>FavoriteJobs</td>\n",
       "      <td>#Engineering #Job alert: Prod Engr - Software ...</td>\n",
       "      <td>17</td>\n",
       "    </tr>\n",
       "    <tr>\n",
       "      <th>33</th>\n",
       "      <td>SlimMcGinn</td>\n",
       "      <td>Remember that time we got Lucas some #DoleWhip...</td>\n",
       "      <td>33</td>\n",
       "    </tr>\n",
       "    <tr>\n",
       "      <th>...</th>\n",
       "      <td>...</td>\n",
       "      <td>...</td>\n",
       "      <td>...</td>\n",
       "    </tr>\n",
       "    <tr>\n",
       "      <th>4</th>\n",
       "      <td>PersistancHuntr</td>\n",
       "      <td>Egg in a muffin!!! (@ Rocket Baby Bakery - @ro...</td>\n",
       "      <td>4</td>\n",
       "    </tr>\n",
       "    <tr>\n",
       "      <th>17</th>\n",
       "      <td>tmj_sac_health</td>\n",
       "      <td>#Engineering #Job alert: Prod Engr - Software ...</td>\n",
       "      <td>17</td>\n",
       "    </tr>\n",
       "    <tr>\n",
       "      <th>46</th>\n",
       "      <td>LocoLoud</td>\n",
       "      <td>AT&amp;amp;T #Engineering #Job: Senior eCommerce R...</td>\n",
       "      <td>46</td>\n",
       "    </tr>\n",
       "    <tr>\n",
       "      <th>4</th>\n",
       "      <td>Tdouble254</td>\n",
       "      <td>Egg in a muffin!!! (@ Rocket Baby Bakery - @ro...</td>\n",
       "      <td>4</td>\n",
       "    </tr>\n",
       "    <tr>\n",
       "      <th>63</th>\n",
       "      <td>tmj_den_hrta</td>\n",
       "      <td>Want to work in ? View our latest opening: htt...</td>\n",
       "      <td>63</td>\n",
       "    </tr>\n",
       "    <tr>\n",
       "      <th>26</th>\n",
       "      <td>anasagcp</td>\n",
       "      <td>See our latest #Savannah, GA #job and click to...</td>\n",
       "      <td>26</td>\n",
       "    </tr>\n",
       "    <tr>\n",
       "      <th>4</th>\n",
       "      <td>ChampTheGeneral</td>\n",
       "      <td>Egg in a muffin!!! (@ Rocket Baby Bakery - @ro...</td>\n",
       "      <td>4</td>\n",
       "    </tr>\n",
       "    <tr>\n",
       "      <th>85</th>\n",
       "      <td>haiiiikaren</td>\n",
       "      <td>Want to work in #SantaMonica, CA? View our lat...</td>\n",
       "      <td>85</td>\n",
       "    </tr>\n",
       "    <tr>\n",
       "      <th>4</th>\n",
       "      <td>compton_erica</td>\n",
       "      <td>Egg in a muffin!!! (@ Rocket Baby Bakery - @ro...</td>\n",
       "      <td>4</td>\n",
       "    </tr>\n",
       "    <tr>\n",
       "      <th>4</th>\n",
       "      <td>ldyphotographic</td>\n",
       "      <td>Egg in a muffin!!! (@ Rocket Baby Bakery - @ro...</td>\n",
       "      <td>4</td>\n",
       "    </tr>\n",
       "    <tr>\n",
       "      <th>4</th>\n",
       "      <td>wa2fly</td>\n",
       "      <td>Egg in a muffin!!! (@ Rocket Baby Bakery - @ro...</td>\n",
       "      <td>4</td>\n",
       "    </tr>\n",
       "    <tr>\n",
       "      <th>4</th>\n",
       "      <td>geddess</td>\n",
       "      <td>Egg in a muffin!!! (@ Rocket Baby Bakery - @ro...</td>\n",
       "      <td>4</td>\n",
       "    </tr>\n",
       "    <tr>\n",
       "      <th>50</th>\n",
       "      <td>ElCortezBK</td>\n",
       "      <td>Cleared: Closure on #US1 SB at South of Olden Ave</td>\n",
       "      <td>50</td>\n",
       "    </tr>\n",
       "    <tr>\n",
       "      <th>4</th>\n",
       "      <td>RosarioE</td>\n",
       "      <td>Egg in a muffin!!! (@ Rocket Baby Bakery - @ro...</td>\n",
       "      <td>4</td>\n",
       "    </tr>\n",
       "    <tr>\n",
       "      <th>47</th>\n",
       "      <td>CrittentonJobs</td>\n",
       "      <td>South African send off! #sarahbolen #SarahPreA...</td>\n",
       "      <td>47</td>\n",
       "    </tr>\n",
       "    <tr>\n",
       "      <th>4</th>\n",
       "      <td>lolorm69</td>\n",
       "      <td>Egg in a muffin!!! (@ Rocket Baby Bakery - @ro...</td>\n",
       "      <td>4</td>\n",
       "    </tr>\n",
       "    <tr>\n",
       "      <th>4</th>\n",
       "      <td>bipolarsurvivor</td>\n",
       "      <td>Egg in a muffin!!! (@ Rocket Baby Bakery - @ro...</td>\n",
       "      <td>4</td>\n",
       "    </tr>\n",
       "    <tr>\n",
       "      <th>98</th>\n",
       "      <td>LUISMAGANAMEX</td>\n",
       "      <td>Buen día, ya listo para irme al #gym \\n\\nPrínc...</td>\n",
       "      <td>98</td>\n",
       "    </tr>\n",
       "    <tr>\n",
       "      <th>30</th>\n",
       "      <td>CEBJobs</td>\n",
       "      <td>in #TomsRiver, NJ: Hourly Home Care Nurses Nee...</td>\n",
       "      <td>30</td>\n",
       "    </tr>\n",
       "    <tr>\n",
       "      <th>4</th>\n",
       "      <td>ValleyFB</td>\n",
       "      <td>Egg in a muffin!!! (@ Rocket Baby Bakery - @ro...</td>\n",
       "      <td>4</td>\n",
       "    </tr>\n",
       "    <tr>\n",
       "      <th>36</th>\n",
       "      <td>ORBITDIDIT</td>\n",
       "      <td>Just posted a photo @ Memories Bar &amp;amp; Grill...</td>\n",
       "      <td>36</td>\n",
       "    </tr>\n",
       "    <tr>\n",
       "      <th>59</th>\n",
       "      <td>trustcandy23</td>\n",
       "      <td>Good morning, another successful segment! #cha...</td>\n",
       "      <td>59</td>\n",
       "    </tr>\n",
       "    <tr>\n",
       "      <th>4</th>\n",
       "      <td>MetroFedHill</td>\n",
       "      <td>Egg in a muffin!!! (@ Rocket Baby Bakery - @ro...</td>\n",
       "      <td>4</td>\n",
       "    </tr>\n",
       "    <tr>\n",
       "      <th>29</th>\n",
       "      <td>AlpinemanOwens</td>\n",
       "      <td>🍩 is 🔑 @ Jupiter Donuts North Palm https://t...</td>\n",
       "      <td>29</td>\n",
       "    </tr>\n",
       "    <tr>\n",
       "      <th>4</th>\n",
       "      <td>Julie_Garmon</td>\n",
       "      <td>Egg in a muffin!!! (@ Rocket Baby Bakery - @ro...</td>\n",
       "      <td>4</td>\n",
       "    </tr>\n",
       "    <tr>\n",
       "      <th>4</th>\n",
       "      <td>DesertViewRealt</td>\n",
       "      <td>Egg in a muffin!!! (@ Rocket Baby Bakery - @ro...</td>\n",
       "      <td>4</td>\n",
       "    </tr>\n",
       "    <tr>\n",
       "      <th>98</th>\n",
       "      <td>SensazaoCrew</td>\n",
       "      <td>Buen día, ya listo para irme al #gym \\n\\nPrínc...</td>\n",
       "      <td>98</td>\n",
       "    </tr>\n",
       "    <tr>\n",
       "      <th>4</th>\n",
       "      <td>adamauden</td>\n",
       "      <td>Egg in a muffin!!! (@ Rocket Baby Bakery - @ro...</td>\n",
       "      <td>4</td>\n",
       "    </tr>\n",
       "    <tr>\n",
       "      <th>4</th>\n",
       "      <td>Free_Orlando</td>\n",
       "      <td>Egg in a muffin!!! (@ Rocket Baby Bakery - @ro...</td>\n",
       "      <td>4</td>\n",
       "    </tr>\n",
       "    <tr>\n",
       "      <th>39</th>\n",
       "      <td>VAMPmusicart</td>\n",
       "      <td>Having a slight craving for rock climbing and ...</td>\n",
       "      <td>39</td>\n",
       "    </tr>\n",
       "  </tbody>\n",
       "</table>\n",
       "<p>65499 rows × 3 columns</p>\n",
       "</div>"
      ],
      "text/plain": [
       "           Nickname                                              tweet  \\\n",
       "99    BillSchulhoff  #EmergencyMedicine alert: Patient Care Associa...   \n",
       "98        danipolis  Buen día, ya listo para irme al #gym \\n\\nPrínc...   \n",
       "4         KJacobs27  Egg in a muffin!!! (@ Rocket Baby Bakery - @ro...   \n",
       "4         stncurtis  Egg in a muffin!!! (@ Rocket Baby Bakery - @ro...   \n",
       "4          wi_borzo  Egg in a muffin!!! (@ Rocket Baby Bakery - @ro...   \n",
       "4    KirstinMerrell  Egg in a muffin!!! (@ Rocket Baby Bakery - @ro...   \n",
       "4        Jkosches86  Egg in a muffin!!! (@ Rocket Baby Bakery - @ro...   \n",
       "57    tmj_pa_retail  Interested in a #Transportation #job near #Ced...   \n",
       "4       Vonfandango  Egg in a muffin!!! (@ Rocket Baby Bakery - @ro...   \n",
       "17     tmj_bal_jobs  #Engineering #Job alert: Prod Engr - Software ...   \n",
       "63    tmj_md_retail  Want to work in ? View our latest opening: htt...   \n",
       "4           gkalkat  Egg in a muffin!!! (@ Rocket Baby Bakery - @ro...   \n",
       "4   GodsNaturalDiva  Egg in a muffin!!! (@ Rocket Baby Bakery - @ro...   \n",
       "4        sarahkehoe  Egg in a muffin!!! (@ Rocket Baby Bakery - @ro...   \n",
       "79   tmj_bos_health  Join the Good Samaritan Hospital team! See our...   \n",
       "79  JohnHancockJobs  Join the Good Samaritan Hospital team! See our...   \n",
       "4        vaidyeah33  Egg in a muffin!!! (@ Rocket Baby Bakery - @ro...   \n",
       "63      tmj_dtw_eng  Want to work in ? View our latest opening: htt...   \n",
       "47       tmj_atl_it  South African send off! #sarahbolen #SarahPreA...   \n",
       "3       N_Master101  @gratefuldead recordstoredayus 🌹🌹🌹 @ TOMS M...   \n",
       "4     VickyGFitness  Egg in a muffin!!! (@ Rocket Baby Bakery - @ro...   \n",
       "4    andrerivera801  Egg in a muffin!!! (@ Rocket Baby Bakery - @ro...   \n",
       "87       PolaBonita  I'm at Virginia Tech - @vtnews in Blacksburg, ...   \n",
       "56     tmj_VAF_HRTA  Mis campeones!! #doralparks , #nikerunning , #...   \n",
       "57    tmj_nc_retail  Interested in a #Transportation #job near #Ced...   \n",
       "4    AlanElGrande_1  Egg in a muffin!!! (@ Rocket Baby Bakery - @ro...   \n",
       "1      tmj_ga_manuf  Pausa pro café antes de embarcar no próximo vô...   \n",
       "67     tmj_NJ_sales  #Fayetteville, NC #Job: LPN / Licensed Practic...   \n",
       "17     FavoriteJobs  #Engineering #Job alert: Prod Engr - Software ...   \n",
       "33       SlimMcGinn  Remember that time we got Lucas some #DoleWhip...   \n",
       "..              ...                                                ...   \n",
       "4   PersistancHuntr  Egg in a muffin!!! (@ Rocket Baby Bakery - @ro...   \n",
       "17   tmj_sac_health  #Engineering #Job alert: Prod Engr - Software ...   \n",
       "46         LocoLoud  AT&amp;T #Engineering #Job: Senior eCommerce R...   \n",
       "4        Tdouble254  Egg in a muffin!!! (@ Rocket Baby Bakery - @ro...   \n",
       "63     tmj_den_hrta  Want to work in ? View our latest opening: htt...   \n",
       "26         anasagcp  See our latest #Savannah, GA #job and click to...   \n",
       "4   ChampTheGeneral  Egg in a muffin!!! (@ Rocket Baby Bakery - @ro...   \n",
       "85      haiiiikaren  Want to work in #SantaMonica, CA? View our lat...   \n",
       "4     compton_erica  Egg in a muffin!!! (@ Rocket Baby Bakery - @ro...   \n",
       "4   ldyphotographic  Egg in a muffin!!! (@ Rocket Baby Bakery - @ro...   \n",
       "4            wa2fly  Egg in a muffin!!! (@ Rocket Baby Bakery - @ro...   \n",
       "4           geddess  Egg in a muffin!!! (@ Rocket Baby Bakery - @ro...   \n",
       "50       ElCortezBK  Cleared: Closure on #US1 SB at South of Olden Ave   \n",
       "4          RosarioE  Egg in a muffin!!! (@ Rocket Baby Bakery - @ro...   \n",
       "47   CrittentonJobs  South African send off! #sarahbolen #SarahPreA...   \n",
       "4          lolorm69  Egg in a muffin!!! (@ Rocket Baby Bakery - @ro...   \n",
       "4   bipolarsurvivor  Egg in a muffin!!! (@ Rocket Baby Bakery - @ro...   \n",
       "98    LUISMAGANAMEX  Buen día, ya listo para irme al #gym \\n\\nPrínc...   \n",
       "30          CEBJobs  in #TomsRiver, NJ: Hourly Home Care Nurses Nee...   \n",
       "4          ValleyFB  Egg in a muffin!!! (@ Rocket Baby Bakery - @ro...   \n",
       "36       ORBITDIDIT  Just posted a photo @ Memories Bar &amp; Grill...   \n",
       "59     trustcandy23  Good morning, another successful segment! #cha...   \n",
       "4      MetroFedHill  Egg in a muffin!!! (@ Rocket Baby Bakery - @ro...   \n",
       "29   AlpinemanOwens  🍩 is 🔑 @ Jupiter Donuts North Palm https://t...   \n",
       "4      Julie_Garmon  Egg in a muffin!!! (@ Rocket Baby Bakery - @ro...   \n",
       "4   DesertViewRealt  Egg in a muffin!!! (@ Rocket Baby Bakery - @ro...   \n",
       "98     SensazaoCrew  Buen día, ya listo para irme al #gym \\n\\nPrínc...   \n",
       "4         adamauden  Egg in a muffin!!! (@ Rocket Baby Bakery - @ro...   \n",
       "4      Free_Orlando  Egg in a muffin!!! (@ Rocket Baby Bakery - @ro...   \n",
       "39     VAMPmusicart  Having a slight craving for rock climbing and ...   \n",
       "\n",
       "    cluster  \n",
       "99       99  \n",
       "98       98  \n",
       "4         4  \n",
       "4         4  \n",
       "4         4  \n",
       "4         4  \n",
       "4         4  \n",
       "57       57  \n",
       "4         4  \n",
       "17       17  \n",
       "63       63  \n",
       "4         4  \n",
       "4         4  \n",
       "4         4  \n",
       "79       79  \n",
       "79       79  \n",
       "4         4  \n",
       "63       63  \n",
       "47       47  \n",
       "3         3  \n",
       "4         4  \n",
       "4         4  \n",
       "87       87  \n",
       "56       56  \n",
       "57       57  \n",
       "4         4  \n",
       "1         1  \n",
       "67       67  \n",
       "17       17  \n",
       "33       33  \n",
       "..      ...  \n",
       "4         4  \n",
       "17       17  \n",
       "46       46  \n",
       "4         4  \n",
       "63       63  \n",
       "26       26  \n",
       "4         4  \n",
       "85       85  \n",
       "4         4  \n",
       "4         4  \n",
       "4         4  \n",
       "4         4  \n",
       "50       50  \n",
       "4         4  \n",
       "47       47  \n",
       "4         4  \n",
       "4         4  \n",
       "98       98  \n",
       "30       30  \n",
       "4         4  \n",
       "36       36  \n",
       "59       59  \n",
       "4         4  \n",
       "29       29  \n",
       "4         4  \n",
       "4         4  \n",
       "98       98  \n",
       "4         4  \n",
       "4         4  \n",
       "39       39  \n",
       "\n",
       "[65499 rows x 3 columns]"
      ]
     },
     "execution_count": 42,
     "metadata": {},
     "output_type": "execute_result"
    }
   ],
   "source": [
    "frame"
   ]
  },
  {
   "cell_type": "code",
   "execution_count": 43,
   "metadata": {
    "collapsed": false
   },
   "outputs": [
    {
     "data": {
      "text/plain": [
       "4     37071\n",
       "49     1839\n",
       "98     1636\n",
       "63     1273\n",
       "36     1130\n",
       "50     1095\n",
       "2      1077\n",
       "46     1059\n",
       "1      1012\n",
       "64      661\n",
       "77      642\n",
       "3       597\n",
       "73      564\n",
       "47      548\n",
       "72      537\n",
       "51      508\n",
       "14      481\n",
       "25      475\n",
       "38      459\n",
       "79      450\n",
       "85      445\n",
       "86      437\n",
       "53      419\n",
       "54      404\n",
       "22      403\n",
       "57      401\n",
       "75      387\n",
       "60      371\n",
       "67      369\n",
       "17      364\n",
       "      ...  \n",
       "59       71\n",
       "37       62\n",
       "61       61\n",
       "74       50\n",
       "82       45\n",
       "48       43\n",
       "16       42\n",
       "97       41\n",
       "76       36\n",
       "12       36\n",
       "0        32\n",
       "40       29\n",
       "71       28\n",
       "91       26\n",
       "81       23\n",
       "68       21\n",
       "65       21\n",
       "66       20\n",
       "52       19\n",
       "32       19\n",
       "11       18\n",
       "23       16\n",
       "89       11\n",
       "94        9\n",
       "62        8\n",
       "13        8\n",
       "44        7\n",
       "80        7\n",
       "43        5\n",
       "20        2\n",
       "Name: cluster, dtype: int64"
      ]
     },
     "execution_count": 43,
     "metadata": {},
     "output_type": "execute_result"
    }
   ],
   "source": [
    "frame['cluster'].value_counts()"
   ]
  },
  {
   "cell_type": "code",
   "execution_count": 44,
   "metadata": {
    "collapsed": true
   },
   "outputs": [],
   "source": [
    "num_clusters = 100"
   ]
  },
  {
   "cell_type": "code",
   "execution_count": 45,
   "metadata": {
    "collapsed": false
   },
   "outputs": [],
   "source": [
    "from __future__ import print_function\n",
    "\n",
    "print(\"Top terms per cluster:\")\n",
    "print()\n",
    "#sort cluster centers by proximity to centroid\n",
    "order_centroids = km.cluster_centers_.argsort()[:, ::-1] \n",
    "print(order_centroids)\n",
    "\n",
    "for i in range(num_clusters):\n",
    "    print(\"Cluster %d words:\" % i, end='')\n",
    "    \n",
    "    for ind in order_centroids[i, :6]: #replace 6 with n words per cluster\n",
    "        print(' %s' % vocab_frame.ix[terms[ind].split(' ')].values.tolist()[0][0], end=',')\n",
    "    print() #add whitespace\n",
    "    print() #add whitespace\n",
    "    \n",
    "#     print(\"Cluster %d titles:\" % i, end='')\n",
    "#     for title in frame.ix[i]['Nickname'].values.tolist():\n",
    "#         print(' %s,' % title, end='')\n",
    "#     print() #add whitespace\n",
    "#     print() #add whitespace\n",
    "    \n",
    "print()\n",
    "print()"
   ]
  },
  {
   "cell_type": "code",
   "execution_count": 26,
   "metadata": {
    "collapsed": false
   },
   "outputs": [
    {
     "ename": "NameError",
     "evalue": "name 'order_centroids' is not defined",
     "output_type": "error",
     "traceback": [
      "\u001b[0;31m---------------------------------------------------------------------------\u001b[0m",
      "\u001b[0;31mNameError\u001b[0m                                 Traceback (most recent call last)",
      "\u001b[0;32m<ipython-input-26-349c11409e2b>\u001b[0m in \u001b[0;36m<module>\u001b[0;34m()\u001b[0m\n\u001b[0;32m----> 1\u001b[0;31m \u001b[0morder_centroids\u001b[0m\u001b[0;34m\u001b[0m\u001b[0m\n\u001b[0m",
      "\u001b[0;31mNameError\u001b[0m: name 'order_centroids' is not defined"
     ]
    }
   ],
   "source": [
    "order_centroids"
   ]
  },
  {
   "cell_type": "code",
   "execution_count": null,
   "metadata": {
    "collapsed": true
   },
   "outputs": [],
   "source": [
    "import string\n",
    "import collections\n",
    " \n",
    "from nltk import word_tokenize\n",
    "from nltk.stem import PorterStemmer\n",
    "from nltk.corpus import stopwords\n",
    "from sklearn.cluster import KMeans\n",
    "from sklearn.feature_extraction.text import TfidfVectorizer\n",
    "from pprint import pprint"
   ]
  },
  {
   "cell_type": "code",
   "execution_count": null,
   "metadata": {
    "collapsed": true
   },
   "outputs": [],
   "source": [
    "def process_text(text, stem=True):\n",
    "    \"\"\" Tokenize text and stem words removing punctuation \"\"\"\n",
    "    text = text.translate(None, string.punctuation)\n",
    "    tokens = word_tokenize(text)\n",
    " \n",
    "    if stem:\n",
    "        stemmer = PorterStemmer()\n",
    "        tokens = [stemmer.stem(t) for t in tokens]\n",
    " \n",
    "    return tokens\n",
    " \n",
    "def cluster_texts(texts, clusters=3):\n",
    "    \"\"\" Transform texts to Tf-Idf coordinates and cluster texts using K-Means \"\"\"\n",
    "    vectorizer = TfidfVectorizer(tokenizer=process_text,\n",
    "                                 stop_words=stopwords.words('english'),\n",
    "                                 max_df=0.5,\n",
    "                                 min_df=0.1,\n",
    "                                 lowercase=True)\n",
    " \n",
    "    tfidf_model = vectorizer.fit_transform(texts)\n",
    "    km_model = KMeans(n_clusters=clusters)\n",
    "    km_model.fit(tfidf_model)\n",
    " \n",
    "    clustering = collections.defaultdict(list)\n",
    " \n",
    "    for idx, label in enumerate(km_model.labels_):\n",
    "        clustering[label].append(idx)\n",
    " \n",
    "    return clustering\n",
    " \n",
    " \n"
   ]
  },
  {
   "cell_type": "code",
   "execution_count": null,
   "metadata": {
    "collapsed": false
   },
   "outputs": [],
   "source": [
    "clusters = cluster_texts(data[[\"Nickname\", \"Tweet content\"]], 7)\n",
    "print(dict(clusters))"
   ]
  },
  {
   "cell_type": "code",
   "execution_count": null,
   "metadata": {
    "collapsed": false
   },
   "outputs": [],
   "source": [
    "tweets"
   ]
  },
  {
   "cell_type": "code",
   "execution_count": null,
   "metadata": {
    "collapsed": false
   },
   "outputs": [],
   "source": [
    "data[[\"Nickname\", \"Tweet content\"]]"
   ]
  },
  {
   "cell_type": "code",
   "execution_count": null,
   "metadata": {
    "collapsed": false
   },
   "outputs": [],
   "source": [
    "data.columns"
   ]
  },
  {
   "cell_type": "code",
   "execution_count": 46,
   "metadata": {
    "collapsed": true
   },
   "outputs": [],
   "source": [
    "# Authors: Gael Varoquaux, Nelle Varoquaux\n",
    "# License: BSD 3 clause\n",
    "\n",
    "import time\n",
    "import matplotlib.pyplot as plt\n",
    "import numpy as np\n",
    "\n",
    "from sklearn.cluster import AgglomerativeClustering\n",
    "from sklearn.neighbors import kneighbors_graph"
   ]
  },
  {
   "cell_type": "code",
   "execution_count": null,
   "metadata": {
    "collapsed": false
   },
   "outputs": [],
   "source": [
    "knn_graph = kneighbors_graph(tfidf_matrix, 30, include_self=False)\n"
   ]
  },
  {
   "cell_type": "code",
   "execution_count": null,
   "metadata": {
    "collapsed": true
   },
   "outputs": [],
   "source": [
    "for connectivity in (None, knn_graph):\n",
    "    for n_clusters in (30, 3):\n",
    "        plt.figure(figsize=(10, 4))\n",
    "        for index, linkage in enumerate(('average', 'complete', 'ward')):\n",
    "            plt.subplot(1, 3, index + 1)\n",
    "            model = AgglomerativeClustering(linkage=linkage,\n",
    "                                            connectivity=connectivity,\n",
    "                                            n_clusters=n_clusters)\n",
    "            t0 = time.time()\n",
    "            model.fit(X)\n",
    "            elapsed_time = time.time() - t0\n",
    "            plt.scatter(X[:, 0], X[:, 1], c=model.labels_,\n",
    "                        cmap=plt.cm.spectral)\n",
    "            plt.title('linkage=%s (time %.2fs)' % (linkage, elapsed_time),\n",
    "                      fontdict=dict(verticalalignment='top'))\n",
    "            plt.axis('equal')\n",
    "            plt.axis('off')\n",
    "\n",
    "            plt.subplots_adjust(bottom=0, top=.89, wspace=0,\n",
    "                                left=0, right=1)\n",
    "            plt.suptitle('n_cluster=%i, connectivity=%r' %\n",
    "                         (n_clusters, connectivity is not None), size=17)\n",
    "\n",
    "\n",
    "plt.show()"
   ]
  },
  {
   "cell_type": "code",
   "execution_count": null,
   "metadata": {
    "collapsed": true
   },
   "outputs": [],
   "source": []
  }
 ],
 "metadata": {
  "kernelspec": {
   "display_name": "Python 2",
   "language": "python",
   "name": "python2"
  },
  "language_info": {
   "codemirror_mode": {
    "name": "ipython",
    "version": 2
   },
   "file_extension": ".py",
   "mimetype": "text/x-python",
   "name": "python",
   "nbconvert_exporter": "python",
   "pygments_lexer": "ipython2",
   "version": "2.7.13"
  }
 },
 "nbformat": 4,
 "nbformat_minor": 2
}
