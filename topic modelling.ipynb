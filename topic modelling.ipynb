{
 "cells": [
  {
   "cell_type": "code",
   "execution_count": 14,
   "metadata": {},
   "outputs": [],
   "source": [
    "import pandas as pd\n",
    "import numpy as np\n",
    "from sklearn.feature_extraction.text import CountVectorizer\n",
    "from sklearn import decomposition"
   ]
  },
  {
   "cell_type": "code",
   "execution_count": 15,
   "metadata": {},
   "outputs": [],
   "source": [
    "data = pd.read_csv(\"/Users/rituc/data/twitter_data/stream_table1.csv\")"
   ]
  },
  {
   "cell_type": "code",
   "execution_count": 16,
   "metadata": {},
   "outputs": [
    {
     "data": {
      "text/html": [
       "<div>\n",
       "<style scoped>\n",
       "    .dataframe tbody tr th:only-of-type {\n",
       "        vertical-align: middle;\n",
       "    }\n",
       "\n",
       "    .dataframe tbody tr th {\n",
       "        vertical-align: top;\n",
       "    }\n",
       "\n",
       "    .dataframe thead th {\n",
       "        text-align: right;\n",
       "    }\n",
       "</style>\n",
       "<table border=\"1\" class=\"dataframe\">\n",
       "  <thead>\n",
       "    <tr style=\"text-align: right;\">\n",
       "      <th></th>\n",
       "      <th>Tweet Id</th>\n",
       "      <th>Date</th>\n",
       "      <th>Hour</th>\n",
       "      <th>User Name</th>\n",
       "      <th>Nickname</th>\n",
       "      <th>Bio</th>\n",
       "      <th>Tweet content</th>\n",
       "      <th>Favs</th>\n",
       "      <th>RTs</th>\n",
       "      <th>Latitude</th>\n",
       "      <th>Longitude</th>\n",
       "      <th>Country</th>\n",
       "      <th>Place (as appears on Bio)</th>\n",
       "      <th>Profile picture</th>\n",
       "      <th>Followers</th>\n",
       "      <th>Following</th>\n",
       "      <th>Listed</th>\n",
       "      <th>Tweet language (ISO 639-1)</th>\n",
       "      <th>Tweet Url</th>\n",
       "    </tr>\n",
       "  </thead>\n",
       "  <tbody>\n",
       "    <tr>\n",
       "      <th>0</th>\n",
       "      <td>721318437075685382</td>\n",
       "      <td>2016-04-16</td>\n",
       "      <td>12:44</td>\n",
       "      <td>Bill Schulhoff</td>\n",
       "      <td>BillSchulhoff</td>\n",
       "      <td>Husband,Dad,GrandDad,Ordained Minister, Umpire...</td>\n",
       "      <td>Wind 3.2 mph NNE. Barometer 30.20 in, Rising s...</td>\n",
       "      <td>NaN</td>\n",
       "      <td>NaN</td>\n",
       "      <td>40.760278</td>\n",
       "      <td>-72.954722</td>\n",
       "      <td>US</td>\n",
       "      <td>East Patchogue, NY</td>\n",
       "      <td>http://pbs.twimg.com/profile_images/3788000007...</td>\n",
       "      <td>386.0</td>\n",
       "      <td>705.0</td>\n",
       "      <td>24.0</td>\n",
       "      <td>en</td>\n",
       "      <td>http://www.twitter.com/BillSchulhoff/status/72...</td>\n",
       "    </tr>\n",
       "    <tr>\n",
       "      <th>1</th>\n",
       "      <td>721318436173979648</td>\n",
       "      <td>2016-04-16</td>\n",
       "      <td>12:44</td>\n",
       "      <td>Daniele Polis</td>\n",
       "      <td>danipolis</td>\n",
       "      <td>Viagens, geek, moda, batons laranja, cabelos c...</td>\n",
       "      <td>Pausa pro café antes de embarcar no próximo vô...</td>\n",
       "      <td>NaN</td>\n",
       "      <td>NaN</td>\n",
       "      <td>32.898349</td>\n",
       "      <td>-97.039196</td>\n",
       "      <td>US</td>\n",
       "      <td>Grapevine, TX</td>\n",
       "      <td>http://pbs.twimg.com/profile_images/7041760340...</td>\n",
       "      <td>812.0</td>\n",
       "      <td>647.0</td>\n",
       "      <td>16.0</td>\n",
       "      <td>pt</td>\n",
       "      <td>http://www.twitter.com/danipolis/status/721318...</td>\n",
       "    </tr>\n",
       "    <tr>\n",
       "      <th>2</th>\n",
       "      <td>721318434169102336</td>\n",
       "      <td>2016-04-16</td>\n",
       "      <td>12:44</td>\n",
       "      <td>Kasey Jacobs</td>\n",
       "      <td>KJacobs27</td>\n",
       "      <td>Norwich University Class of 2017</td>\n",
       "      <td>Good. Morning. #morning #Saturday #diner #VT #...</td>\n",
       "      <td>NaN</td>\n",
       "      <td>NaN</td>\n",
       "      <td>44.199476</td>\n",
       "      <td>-72.504173</td>\n",
       "      <td>US</td>\n",
       "      <td>Barre, VT</td>\n",
       "      <td>http://pbs.twimg.com/profile_images/7169585649...</td>\n",
       "      <td>179.0</td>\n",
       "      <td>206.0</td>\n",
       "      <td>2.0</td>\n",
       "      <td>en</td>\n",
       "      <td>http://www.twitter.com/KJacobs27/status/721318...</td>\n",
       "    </tr>\n",
       "    <tr>\n",
       "      <th>3</th>\n",
       "      <td>721318429844582400</td>\n",
       "      <td>2016-04-16</td>\n",
       "      <td>12:44</td>\n",
       "      <td>Stan Curtis</td>\n",
       "      <td>stncurtis</td>\n",
       "      <td>transcendental music, art for art's sake, craf...</td>\n",
       "      <td>@gratefuldead recordstoredayus 🌹🌹🌹 @ TOMS M...</td>\n",
       "      <td>NaN</td>\n",
       "      <td>NaN</td>\n",
       "      <td>39.901474</td>\n",
       "      <td>-76.606817</td>\n",
       "      <td>US</td>\n",
       "      <td>Red Lion, PA</td>\n",
       "      <td>http://pbs.twimg.com/profile_images/6962528246...</td>\n",
       "      <td>1229.0</td>\n",
       "      <td>2071.0</td>\n",
       "      <td>11.0</td>\n",
       "      <td>en</td>\n",
       "      <td>http://www.twitter.com/stncurtis/status/721318...</td>\n",
       "    </tr>\n",
       "    <tr>\n",
       "      <th>4</th>\n",
       "      <td>721318429081407488</td>\n",
       "      <td>2016-04-16</td>\n",
       "      <td>12:44</td>\n",
       "      <td>Dave Borzymowski</td>\n",
       "      <td>wi_borzo</td>\n",
       "      <td>When in doubt....Panic.</td>\n",
       "      <td>Egg in a muffin!!! (@ Rocket Baby Bakery - @ro...</td>\n",
       "      <td>NaN</td>\n",
       "      <td>NaN</td>\n",
       "      <td>43.060849</td>\n",
       "      <td>-87.998309</td>\n",
       "      <td>US</td>\n",
       "      <td>Wauwatosa, WI</td>\n",
       "      <td>http://pbs.twimg.com/profile_images/6595279129...</td>\n",
       "      <td>129.0</td>\n",
       "      <td>833.0</td>\n",
       "      <td>9.0</td>\n",
       "      <td>en</td>\n",
       "      <td>http://www.twitter.com/wi_borzo/status/7213184...</td>\n",
       "    </tr>\n",
       "  </tbody>\n",
       "</table>\n",
       "</div>"
      ],
      "text/plain": [
       "             Tweet Id        Date   Hour         User Name       Nickname  \\\n",
       "0  721318437075685382  2016-04-16  12:44    Bill Schulhoff  BillSchulhoff   \n",
       "1  721318436173979648  2016-04-16  12:44     Daniele Polis      danipolis   \n",
       "2  721318434169102336  2016-04-16  12:44      Kasey Jacobs      KJacobs27   \n",
       "3  721318429844582400  2016-04-16  12:44       Stan Curtis      stncurtis   \n",
       "4  721318429081407488  2016-04-16  12:44  Dave Borzymowski       wi_borzo   \n",
       "\n",
       "                                                 Bio  \\\n",
       "0  Husband,Dad,GrandDad,Ordained Minister, Umpire...   \n",
       "1  Viagens, geek, moda, batons laranja, cabelos c...   \n",
       "2                   Norwich University Class of 2017   \n",
       "3  transcendental music, art for art's sake, craf...   \n",
       "4                            When in doubt....Panic.   \n",
       "\n",
       "                                       Tweet content  Favs  RTs   Latitude  \\\n",
       "0  Wind 3.2 mph NNE. Barometer 30.20 in, Rising s...   NaN  NaN  40.760278   \n",
       "1  Pausa pro café antes de embarcar no próximo vô...   NaN  NaN  32.898349   \n",
       "2  Good. Morning. #morning #Saturday #diner #VT #...   NaN  NaN  44.199476   \n",
       "3  @gratefuldead recordstoredayus 🌹🌹🌹 @ TOMS M...   NaN  NaN  39.901474   \n",
       "4  Egg in a muffin!!! (@ Rocket Baby Bakery - @ro...   NaN  NaN  43.060849   \n",
       "\n",
       "   Longitude Country Place (as appears on Bio)  \\\n",
       "0 -72.954722      US        East Patchogue, NY   \n",
       "1 -97.039196      US             Grapevine, TX   \n",
       "2 -72.504173      US                 Barre, VT   \n",
       "3 -76.606817      US              Red Lion, PA   \n",
       "4 -87.998309      US             Wauwatosa, WI   \n",
       "\n",
       "                                     Profile picture  Followers  Following  \\\n",
       "0  http://pbs.twimg.com/profile_images/3788000007...      386.0      705.0   \n",
       "1  http://pbs.twimg.com/profile_images/7041760340...      812.0      647.0   \n",
       "2  http://pbs.twimg.com/profile_images/7169585649...      179.0      206.0   \n",
       "3  http://pbs.twimg.com/profile_images/6962528246...     1229.0     2071.0   \n",
       "4  http://pbs.twimg.com/profile_images/6595279129...      129.0      833.0   \n",
       "\n",
       "   Listed Tweet language (ISO 639-1)  \\\n",
       "0    24.0                         en   \n",
       "1    16.0                         pt   \n",
       "2     2.0                         en   \n",
       "3    11.0                         en   \n",
       "4     9.0                         en   \n",
       "\n",
       "                                           Tweet Url  \n",
       "0  http://www.twitter.com/BillSchulhoff/status/72...  \n",
       "1  http://www.twitter.com/danipolis/status/721318...  \n",
       "2  http://www.twitter.com/KJacobs27/status/721318...  \n",
       "3  http://www.twitter.com/stncurtis/status/721318...  \n",
       "4  http://www.twitter.com/wi_borzo/status/7213184...  "
      ]
     },
     "execution_count": 16,
     "metadata": {},
     "output_type": "execute_result"
    }
   ],
   "source": [
    "data.head()"
   ]
  },
  {
   "cell_type": "code",
   "execution_count": 19,
   "metadata": {},
   "outputs": [],
   "source": [
    "text = list(data[\"Tweet content\"])"
   ]
  },
  {
   "cell_type": "code",
   "execution_count": 43,
   "metadata": {},
   "outputs": [],
   "source": [
    "text = text[:100]"
   ]
  },
  {
   "cell_type": "code",
   "execution_count": 44,
   "metadata": {},
   "outputs": [],
   "source": [
    "vectorizer = CountVectorizer(stop_words='english', min_df=2, max_df=0.8)"
   ]
  },
  {
   "cell_type": "code",
   "execution_count": 45,
   "metadata": {},
   "outputs": [],
   "source": [
    "dtm = vectorizer.fit_transform(text).toarray()"
   ]
  },
  {
   "cell_type": "code",
   "execution_count": 46,
   "metadata": {},
   "outputs": [],
   "source": [
    "vocab = np.array(vectorizer.get_feature_names())"
   ]
  },
  {
   "cell_type": "code",
   "execution_count": 48,
   "metadata": {},
   "outputs": [
    {
     "data": {
      "text/plain": [
       "u'ca'"
      ]
     },
     "execution_count": 48,
     "metadata": {},
     "output_type": "execute_result"
    }
   ],
   "source": [
    "vocab[10]"
   ]
  },
  {
   "cell_type": "code",
   "execution_count": 49,
   "metadata": {},
   "outputs": [
    {
     "data": {
      "text/plain": [
       "(100, 86)"
      ]
     },
     "execution_count": 49,
     "metadata": {},
     "output_type": "execute_result"
    }
   ],
   "source": [
    "dtm.shape"
   ]
  },
  {
   "cell_type": "code",
   "execution_count": 50,
   "metadata": {},
   "outputs": [
    {
     "data": {
      "text/plain": [
       "86"
      ]
     },
     "execution_count": 50,
     "metadata": {},
     "output_type": "execute_result"
    }
   ],
   "source": [
    "len(vocab)"
   ]
  },
  {
   "cell_type": "code",
   "execution_count": 51,
   "metadata": {},
   "outputs": [
    {
     "data": {
      "text/plain": [
       "Index([u'Tweet Id', u'Date', u'Hour', u'User Name', u'Nickname', u'Bio',\n",
       "       u'Tweet content', u'Favs', u'RTs', u'Latitude', u'Longitude',\n",
       "       u'Country', u'Place (as appears on Bio)', u'Profile picture',\n",
       "       u'Followers', u'Following', u'Listed', u'Tweet language (ISO 639-1)',\n",
       "       u'Tweet Url'],\n",
       "      dtype='object')"
      ]
     },
     "execution_count": 51,
     "metadata": {},
     "output_type": "execute_result"
    }
   ],
   "source": [
    "data.columns"
   ]
  },
  {
   "cell_type": "code",
   "execution_count": 52,
   "metadata": {},
   "outputs": [],
   "source": [
    "num_topics = 20\n",
    "num_top_words = 20"
   ]
  },
  {
   "cell_type": "code",
   "execution_count": 53,
   "metadata": {},
   "outputs": [],
   "source": [
    "clf = decomposition.NMF(n_components=num_topics, random_state=1)"
   ]
  },
  {
   "cell_type": "code",
   "execution_count": 54,
   "metadata": {},
   "outputs": [],
   "source": [
    "doctopic = clf.fit_transform(dtm)"
   ]
  },
  {
   "cell_type": "code",
   "execution_count": 55,
   "metadata": {},
   "outputs": [],
   "source": [
    "topic_words = []"
   ]
  },
  {
   "cell_type": "code",
   "execution_count": 56,
   "metadata": {},
   "outputs": [],
   "source": [
    "for topic in clf.components_:\n",
    "    word_idx = np.argsort(topic)[::-1][0:num_top_words]\n",
    "    topic_words.append([vocab[i] for i in word_idx])"
   ]
  },
  {
   "cell_type": "code",
   "execution_count": 57,
   "metadata": {},
   "outputs": [
    {
     "data": {
      "text/plain": [
       "[[u'careerarc',\n",
       "  u'hiring',\n",
       "  u'job',\n",
       "  u'jobs',\n",
       "  u'hospitality',\n",
       "  u'va',\n",
       "  u'senior',\n",
       "  u'trainee',\n",
       "  u'north',\n",
       "  u'food',\n",
       "  u'great',\n",
       "  u'nj',\n",
       "  u'accounting',\n",
       "  u'amp',\n",
       "  u'pa',\n",
       "  u'atlanta',\n",
       "  u'recommend',\n",
       "  u'going',\n",
       "  u'don',\n",
       "  u'good'],\n",
       " [u'home',\n",
       "  u'care',\n",
       "  u'health',\n",
       "  u'bayada',\n",
       "  u'nurse',\n",
       "  u'registered',\n",
       "  u'licensed',\n",
       "  u'nj',\n",
       "  u'md',\n",
       "  u'rn',\n",
       "  u'jobs',\n",
       "  u'don',\n",
       "  u'trainee',\n",
       "  u'pharmaceutical',\n",
       "  u'clinical',\n",
       "  u'details',\n",
       "  u'want',\n",
       "  u'work',\n",
       "  u'accounting',\n",
       "  u'ga'],\n",
       " [u'view',\n",
       "  u'want',\n",
       "  u'work',\n",
       "  u'latest',\n",
       "  u'opening',\n",
       "  u'jobs',\n",
       "  u'hiring',\n",
       "  u'job',\n",
       "  u'wi',\n",
       "  u'ca',\n",
       "  u'pharmaceutical',\n",
       "  u'ma',\n",
       "  u'charlotte',\n",
       "  u'businessmgmt',\n",
       "  u'engineering',\n",
       "  u'healthcare',\n",
       "  u'veterans',\n",
       "  u'va',\n",
       "  u'hospitality',\n",
       "  u'beach'],\n",
       " [u'recommend',\n",
       "  u'hiring',\n",
       "  u'job',\n",
       "  u'clinical',\n",
       "  u'ga',\n",
       "  u'atlanta',\n",
       "  u'pharmaceutical',\n",
       "  u'nj',\n",
       "  u'oh',\n",
       "  u'pa',\n",
       "  u'va',\n",
       "  u'hospitality',\n",
       "  u'manager',\n",
       "  u'charlotte',\n",
       "  u'manufacturing',\n",
       "  u'good',\n",
       "  u'great',\n",
       "  u'don',\n",
       "  u'engineering',\n",
       "  u'health'],\n",
       " [u'retail',\n",
       "  u'trainee',\n",
       "  u'sales',\n",
       "  u'manager',\n",
       "  u'jobs',\n",
       "  u'apply',\n",
       "  u'click',\n",
       "  u'hiring',\n",
       "  u'pa',\n",
       "  u'mi',\n",
       "  u'job',\n",
       "  u'careerarc',\n",
       "  u'read',\n",
       "  u'nc',\n",
       "  u'health',\n",
       "  u'md',\n",
       "  u'opening',\n",
       "  u'fl',\n",
       "  u'got',\n",
       "  u'great'],\n",
       " [u'manager',\n",
       "  u'amp',\n",
       "  u'ma',\n",
       "  u'accounting',\n",
       "  u'businessmgmt',\n",
       "  u'center',\n",
       "  u'nj',\n",
       "  u'pharmaceutical',\n",
       "  u'customerservice',\n",
       "  u'clinical',\n",
       "  u'beach',\n",
       "  u'beautiful',\n",
       "  u'senior',\n",
       "  u'mi',\n",
       "  u'just',\n",
       "  u'engineering',\n",
       "  u'saturday',\n",
       "  u'trainee',\n",
       "  u'read',\n",
       "  u'apply'],\n",
       " [u'morning',\n",
       "  u'good',\n",
       "  u'saturday',\n",
       "  u'beach',\n",
       "  u'amp',\n",
       "  u'beautiful',\n",
       "  u'charlotte',\n",
       "  u'time',\n",
       "  u'finished',\n",
       "  u'ca',\n",
       "  u'senior',\n",
       "  u'atlanta',\n",
       "  u'ga',\n",
       "  u'fl',\n",
       "  u'fit',\n",
       "  u'food',\n",
       "  u'finally',\n",
       "  u'ya',\n",
       "  u'got',\n",
       "  u'going'],\n",
       " [u'apply',\n",
       "  u'click',\n",
       "  u'latest',\n",
       "  u'job',\n",
       "  u'manufacturing',\n",
       "  u'hiring',\n",
       "  u'senior',\n",
       "  u'accounting',\n",
       "  u'nj',\n",
       "  u'ga',\n",
       "  u'nc',\n",
       "  u'careerarc',\n",
       "  u'sales',\n",
       "  u'good',\n",
       "  u'team',\n",
       "  u'going',\n",
       "  u'fit',\n",
       "  u'fl',\n",
       "  u'food',\n",
       "  u'associate'],\n",
       " [u'great',\n",
       "  u'fit',\n",
       "  u'job',\n",
       "  u'transportation',\n",
       "  u'fl',\n",
       "  u'time',\n",
       "  u'manufacturing',\n",
       "  u'ga',\n",
       "  u'jobs',\n",
       "  u'associate',\n",
       "  u'ny',\n",
       "  u'retail',\n",
       "  u'ca',\n",
       "  u'oh',\n",
       "  u'morning',\n",
       "  u'details',\n",
       "  u'food',\n",
       "  u'going',\n",
       "  u'good',\n",
       "  u'finished'],\n",
       " [u'don',\n",
       "  u'think',\n",
       "  u'just',\n",
       "  u'wi',\n",
       "  u'home',\n",
       "  u'finally',\n",
       "  u'spring',\n",
       "  u'amp',\n",
       "  u'engineering',\n",
       "  u'food',\n",
       "  u'details',\n",
       "  u'finished',\n",
       "  u'fit',\n",
       "  u'fl',\n",
       "  u'going',\n",
       "  u'ga',\n",
       "  u'customerservice',\n",
       "  u'good',\n",
       "  u'got',\n",
       "  u'great'],\n",
       " [u'sales',\n",
       "  u'hiring',\n",
       "  u'jobs',\n",
       "  u'job',\n",
       "  u'associate',\n",
       "  u'mi',\n",
       "  u'fl',\n",
       "  u'alert',\n",
       "  u'sc',\n",
       "  u'careerarc',\n",
       "  u'nj',\n",
       "  u'details',\n",
       "  u'click',\n",
       "  u'care',\n",
       "  u'want',\n",
       "  u'work',\n",
       "  u'manager',\n",
       "  u'retail',\n",
       "  u'finished',\n",
       "  u'fit'],\n",
       " [u'spring',\n",
       "  u'day',\n",
       "  u'couldn',\n",
       "  u'finally',\n",
       "  u'beautiful',\n",
       "  u'come',\n",
       "  u'wi',\n",
       "  u'think',\n",
       "  u'beach',\n",
       "  u'amp',\n",
       "  u'engineering',\n",
       "  u'saturday',\n",
       "  u'atlanta',\n",
       "  u'ga',\n",
       "  u'senior',\n",
       "  u'center',\n",
       "  u'alert',\n",
       "  u'careerarc',\n",
       "  u'care',\n",
       "  u'got'],\n",
       " [u'rn',\n",
       "  u'registered',\n",
       "  u'nurse',\n",
       "  u'recommend',\n",
       "  u'job',\n",
       "  u'licensed',\n",
       "  u'care',\n",
       "  u'nj',\n",
       "  u'pa',\n",
       "  u'va',\n",
       "  u'hospitality',\n",
       "  u'manufacturing',\n",
       "  u'oh',\n",
       "  u'mi',\n",
       "  u'ca',\n",
       "  u'careerarc',\n",
       "  u'don',\n",
       "  u'engineering',\n",
       "  u'ya',\n",
       "  u'finally'],\n",
       " [u'ny',\n",
       "  u'food',\n",
       "  u'north',\n",
       "  u'hospitality',\n",
       "  u'manufacturing',\n",
       "  u'center',\n",
       "  u'customerservice',\n",
       "  u'job',\n",
       "  u'fit',\n",
       "  u'read',\n",
       "  u'manager',\n",
       "  u'great',\n",
       "  u'jobs',\n",
       "  u'amp',\n",
       "  u'associate',\n",
       "  u'fl',\n",
       "  u'apply',\n",
       "  u'ga',\n",
       "  u'going',\n",
       "  u'good'],\n",
       " [u'healthcare',\n",
       "  u'alert',\n",
       "  u'jobs',\n",
       "  u'job',\n",
       "  u'sc',\n",
       "  u'ma',\n",
       "  u'va',\n",
       "  u'fl',\n",
       "  u'hiring',\n",
       "  u'care',\n",
       "  u'associate',\n",
       "  u'view',\n",
       "  u'manufacturing',\n",
       "  u'details',\n",
       "  u'got',\n",
       "  u'good',\n",
       "  u'great',\n",
       "  u'going',\n",
       "  u'ga',\n",
       "  u'food'],\n",
       " [u'details',\n",
       "  u'click',\n",
       "  u'want',\n",
       "  u'work',\n",
       "  u'ga',\n",
       "  u'jobs',\n",
       "  u'job',\n",
       "  u'hiring',\n",
       "  u'customerservice',\n",
       "  u'nj',\n",
       "  u'sales',\n",
       "  u'atlanta',\n",
       "  u'careerarc',\n",
       "  u'great',\n",
       "  u'amp',\n",
       "  u'engineering',\n",
       "  u'ca',\n",
       "  u'apply',\n",
       "  u'healthcare',\n",
       "  u'home'],\n",
       " [u'opening',\n",
       "  u'latest',\n",
       "  u'hiring',\n",
       "  u'job',\n",
       "  u'read',\n",
       "  u'pa',\n",
       "  u'center',\n",
       "  u'customerservice',\n",
       "  u'team',\n",
       "  u'good',\n",
       "  u'retail',\n",
       "  u'sales',\n",
       "  u'oh',\n",
       "  u'ca',\n",
       "  u'ny',\n",
       "  u'healthcare',\n",
       "  u'charlotte',\n",
       "  u'don',\n",
       "  u'health',\n",
       "  u'great'],\n",
       " [u'nc',\n",
       "  u'jobs',\n",
       "  u'job',\n",
       "  u'licensed',\n",
       "  u'nurse',\n",
       "  u'charlotte',\n",
       "  u'bayada',\n",
       "  u'businessmgmt',\n",
       "  u'hiring',\n",
       "  u'health',\n",
       "  u'care',\n",
       "  u'apply',\n",
       "  u'click',\n",
       "  u'trainee',\n",
       "  u'manager',\n",
       "  u'sales',\n",
       "  u'healthcare',\n",
       "  u'going',\n",
       "  u'good',\n",
       "  u'finally'],\n",
       " [u'hiring',\n",
       "  u'job',\n",
       "  u'jobs',\n",
       "  u'veterans',\n",
       "  u'md',\n",
       "  u'engineering',\n",
       "  u'mi',\n",
       "  u'hospitality',\n",
       "  u'health',\n",
       "  u'alert',\n",
       "  u'ga',\n",
       "  u'associate',\n",
       "  u'atlanta',\n",
       "  u'amp',\n",
       "  u'ca',\n",
       "  u'registered',\n",
       "  u'fl',\n",
       "  u'senior',\n",
       "  u'food',\n",
       "  u'north'],\n",
       " [u'leg',\n",
       "  u'just',\n",
       "  u'finished',\n",
       "  u'team',\n",
       "  u'time',\n",
       "  u'got',\n",
       "  u'amp',\n",
       "  u'atlanta',\n",
       "  u'ga',\n",
       "  u'engineering',\n",
       "  u'senior',\n",
       "  u'morning',\n",
       "  u'fl',\n",
       "  u'center',\n",
       "  u'ya',\n",
       "  u'mexico',\n",
       "  u'te',\n",
       "  u'cleared',\n",
       "  u'south',\n",
       "  u'food']]"
      ]
     },
     "execution_count": 57,
     "metadata": {},
     "output_type": "execute_result"
    }
   ],
   "source": [
    "topic_words"
   ]
  },
  {
   "cell_type": "code",
   "execution_count": 58,
   "metadata": {},
   "outputs": [
    {
     "name": "stderr",
     "output_type": "stream",
     "text": [
      "/Users/rituc/anaconda2/lib/python2.7/site-packages/ipykernel_launcher.py:1: RuntimeWarning: invalid value encountered in divide\n",
      "  \"\"\"Entry point for launching an IPython kernel.\n"
     ]
    }
   ],
   "source": [
    "doctopic = doctopic / np.sum(doctopic, axis=1, keepdims=True)"
   ]
  },
  {
   "cell_type": "code",
   "execution_count": 59,
   "metadata": {},
   "outputs": [],
   "source": [
    "import numpy as np\n",
    "import matplotlib.pyplot as plt\n",
    "from sklearn.mixture import GaussianMixture"
   ]
  },
  {
   "cell_type": "code",
   "execution_count": 60,
   "metadata": {},
   "outputs": [
    {
     "data": {
      "text/plain": [
       "array([[0, 0, 0, ..., 0, 0, 0],\n",
       "       [0, 0, 0, ..., 0, 0, 0],\n",
       "       [0, 0, 0, ..., 0, 0, 0],\n",
       "       ...,\n",
       "       [0, 0, 0, ..., 0, 0, 0],\n",
       "       [0, 0, 0, ..., 0, 0, 1],\n",
       "       [0, 1, 0, ..., 0, 0, 0]])"
      ]
     },
     "execution_count": 60,
     "metadata": {},
     "output_type": "execute_result"
    }
   ],
   "source": [
    "dtm"
   ]
  },
  {
   "cell_type": "code",
   "execution_count": 61,
   "metadata": {},
   "outputs": [],
   "source": [
    "gmm = GaussianMixture(n_components=20)"
   ]
  },
  {
   "cell_type": "code",
   "execution_count": 62,
   "metadata": {},
   "outputs": [
    {
     "data": {
      "text/plain": [
       "GaussianMixture(covariance_type='full', init_params='kmeans', max_iter=100,\n",
       "        means_init=None, n_components=20, n_init=1, precisions_init=None,\n",
       "        random_state=None, reg_covar=1e-06, tol=0.001, verbose=0,\n",
       "        verbose_interval=10, warm_start=False, weights_init=None)"
      ]
     },
     "execution_count": 62,
     "metadata": {},
     "output_type": "execute_result"
    }
   ],
   "source": [
    "gmm"
   ]
  },
  {
   "cell_type": "code",
   "execution_count": 63,
   "metadata": {},
   "outputs": [
    {
     "data": {
      "text/plain": [
       "GaussianMixture(covariance_type='full', init_params='kmeans', max_iter=100,\n",
       "        means_init=None, n_components=20, n_init=1, precisions_init=None,\n",
       "        random_state=None, reg_covar=1e-06, tol=0.001, verbose=0,\n",
       "        verbose_interval=10, warm_start=False, weights_init=None)"
      ]
     },
     "execution_count": 63,
     "metadata": {},
     "output_type": "execute_result"
    }
   ],
   "source": [
    "gmm.fit(dtm)"
   ]
  },
  {
   "cell_type": "code",
   "execution_count": 64,
   "metadata": {},
   "outputs": [],
   "source": [
    "labels = gmm.predict(dtm)"
   ]
  },
  {
   "cell_type": "code",
   "execution_count": 65,
   "metadata": {},
   "outputs": [
    {
     "data": {
      "text/plain": [
       "array([ 0,  0,  1,  0,  1,  1,  1, 12,  0,  3,  4,  0,  0,  1,  6,  2,  0,\n",
       "       15, 10,  1, 18,  1,  1, 10,  4,  1,  8,  5, 16,  1,  3,  5,  1,  1,\n",
       "        0,  8,  1,  1,  1,  0,  1,  1, 10, 15,  1, 10,  7,  0,  7, 15,  0,\n",
       "        1,  0,  1,  0,  0,  0, 11,  1,  1,  6,  8, 10,  6,  9,  6,  1, 19,\n",
       "        1,  1,  1,  1,  1,  1,  1,  0,  0,  1,  1, 10, 13, 17, 10, 11,  0,\n",
       "        2,  4,  1, 14,  1,  1,  9,  0,  1,  1,  1,  0, 11,  1,  1])"
      ]
     },
     "execution_count": 65,
     "metadata": {},
     "output_type": "execute_result"
    }
   ],
   "source": [
    "labels"
   ]
  },
  {
   "cell_type": "code",
   "execution_count": 67,
   "metadata": {},
   "outputs": [
    {
     "data": {
      "image/png": "[encoded data removed]",
      "text/plain": [
       "<Figure size 432x288 with 1 Axes>"
      ]
     },
     "metadata": {},
     "output_type": "display_data"
    }
   ],
   "source": [
    "plt.scatter(dtm[:, 0], dtm[:, 1], c=labels, s=40, cmap='viridis');"
   ]
  },
  {
   "cell_type": "code",
   "execution_count": 69,
   "metadata": {},
   "outputs": [
    {
     "name": "stdout",
     "output_type": "stream",
     "text": [
      "[[1. 0. 0. 0. 0. 0. 0. 0. 0. 0. 0. 0. 0. 0. 0. 0. 0. 0. 0. 0.]\n",
      " [1. 0. 0. 0. 0. 0. 0. 0. 0. 0. 0. 0. 0. 0. 0. 0. 0. 0. 0. 0.]\n",
      " [0. 1. 0. 0. 0. 0. 0. 0. 0. 0. 0. 0. 0. 0. 0. 0. 0. 0. 0. 0.]\n",
      " [1. 0. 0. 0. 0. 0. 0. 0. 0. 0. 0. 0. 0. 0. 0. 0. 0. 0. 0. 0.]\n",
      " [0. 1. 0. 0. 0. 0. 0. 0. 0. 0. 0. 0. 0. 0. 0. 0. 0. 0. 0. 0.]]\n"
     ]
    }
   ],
   "source": [
    "probs = gmm.predict_proba(dtm)\n",
    "print(probs[:5].round(3))"
   ]
  },
  {
   "cell_type": "code",
   "execution_count": 72,
   "metadata": {},
   "outputs": [
    {
     "data": {
      "text/plain": [
       "<matplotlib.collections.PathCollection at 0x1a17514890>"
      ]
     },
     "execution_count": 72,
     "metadata": {},
     "output_type": "execute_result"
    },
    {
     "data": {
      "image/png": "[encoded data removed]",
      "text/plain": [
       "<Figure size 432x288 with 1 Axes>"
      ]
     },
     "metadata": {},
     "output_type": "display_data"
    }
   ],
   "source": [
    "size = 50 * probs.max(1) ** 2  # square emphasizes differences\n",
    "plt.scatter(dtm[:, 0], dtm[:, 1], c=labels, cmap='viridis', s=size)"
   ]
  },
  {
   "cell_type": "code",
   "execution_count": 75,
   "metadata": {},
   "outputs": [],
   "source": [
    "X = dtm"
   ]
  },
  {
   "cell_type": "code",
   "execution_count": 76,
   "metadata": {},
   "outputs": [],
   "source": [
    "from matplotlib.patches import Ellipse\n",
    "\n",
    "def draw_ellipse(position, covariance, ax=None, **kwargs):\n",
    "    \"\"\"Draw an ellipse with a given position and covariance\"\"\"\n",
    "    ax = ax or plt.gca()\n",
    "    \n",
    "    # Convert covariance to principal axes\n",
    "    if covariance.shape == (2, 2):\n",
    "        U, s, Vt = np.linalg.svd(covariance)\n",
    "        angle = np.degrees(np.arctan2(U[1, 0], U[0, 0]))\n",
    "        width, height = 2 * np.sqrt(s)\n",
    "    else:\n",
    "        angle = 0\n",
    "        width, height = 2 * np.sqrt(covariance)\n",
    "    \n",
    "    # Draw the Ellipse\n",
    "    for nsig in range(1, 4):\n",
    "        ax.add_patch(Ellipse(position, nsig * width, nsig * height,\n",
    "                             angle, **kwargs))"
   ]
  },
  {
   "cell_type": "code",
   "execution_count": 77,
   "metadata": {},
   "outputs": [],
   "source": [
    "def plot_gmm(gmm, X, label=True, ax=None):\n",
    "    ax = ax or plt.gca()\n",
    "    labels = gmm.fit(X).predict(X)\n",
    "    if label:\n",
    "        ax.scatter(X[:, 0], X[:, 1], c=labels, s=40, cmap='viridis', zorder=2)\n",
    "    else:\n",
    "        ax.scatter(X[:, 0], X[:, 1], s=40, zorder=2)\n",
    "    ax.axis('equal')\n",
    "    \n",
    "    w_factor = 0.2 / gmm.weights_.max()\n",
    "    for pos, covar, w in zip(gmm.means_, gmm.covars_, gmm.weights_):\n",
    "        draw_ellipse(pos, covar, alpha=w * w_factor)\n"
   ]
  },
  {
   "cell_type": "code",
   "execution_count": 79,
   "metadata": {},
   "outputs": [],
   "source": [
    "from sklearn.mixture import GMM"
   ]
  },
  {
   "cell_type": "code",
   "execution_count": 80,
   "metadata": {},
   "outputs": [
    {
     "name": "stderr",
     "output_type": "stream",
     "text": [
      "/Users/rituc/anaconda2/lib/python2.7/site-packages/sklearn/utils/deprecation.py:58: DeprecationWarning: Class GMM is deprecated; The class GMM is deprecated in 0.18 and will be  removed in 0.20. Use class GaussianMixture instead.\n",
      "  warnings.warn(msg, category=DeprecationWarning)\n",
      "/Users/rituc/anaconda2/lib/python2.7/site-packages/sklearn/utils/deprecation.py:77: DeprecationWarning: Function distribute_covar_matrix_to_match_covariance_type is deprecated; The function distribute_covar_matrix_to_match_covariance_typeis deprecated in 0.18 and will be removed in 0.20.\n",
      "  warnings.warn(msg, category=DeprecationWarning)\n",
      "/Users/rituc/anaconda2/lib/python2.7/site-packages/sklearn/utils/deprecation.py:77: DeprecationWarning: Function log_multivariate_normal_density is deprecated; The function log_multivariate_normal_density is deprecated in 0.18 and will be removed in 0.20.\n",
      "  warnings.warn(msg, category=DeprecationWarning)\n",
      "/Users/rituc/anaconda2/lib/python2.7/site-packages/sklearn/utils/deprecation.py:77: DeprecationWarning: Function log_multivariate_normal_density is deprecated; The function log_multivariate_normal_density is deprecated in 0.18 and will be removed in 0.20.\n",
      "  warnings.warn(msg, category=DeprecationWarning)\n",
      "/Users/rituc/anaconda2/lib/python2.7/site-packages/sklearn/utils/deprecation.py:77: DeprecationWarning: Function log_multivariate_normal_density is deprecated; The function log_multivariate_normal_density is deprecated in 0.18 and will be removed in 0.20.\n",
      "  warnings.warn(msg, category=DeprecationWarning)\n",
      "/Users/rituc/anaconda2/lib/python2.7/site-packages/sklearn/utils/deprecation.py:77: DeprecationWarning: Function log_multivariate_normal_density is deprecated; The function log_multivariate_normal_density is deprecated in 0.18 and will be removed in 0.20.\n",
      "  warnings.warn(msg, category=DeprecationWarning)\n",
      "/Users/rituc/anaconda2/lib/python2.7/site-packages/sklearn/utils/deprecation.py:77: DeprecationWarning: Function log_multivariate_normal_density is deprecated; The function log_multivariate_normal_density is deprecated in 0.18 and will be removed in 0.20.\n",
      "  warnings.warn(msg, category=DeprecationWarning)\n",
      "/Users/rituc/anaconda2/lib/python2.7/site-packages/sklearn/utils/deprecation.py:77: DeprecationWarning: Function log_multivariate_normal_density is deprecated; The function log_multivariate_normal_density is deprecated in 0.18 and will be removed in 0.20.\n",
      "  warnings.warn(msg, category=DeprecationWarning)\n"
     ]
    },
    {
     "ename": "ValueError",
     "evalue": "too many values to unpack",
     "output_type": "error",
     "traceback": [
      "\u001b[0;31m---------------------------------------------------------------------------\u001b[0m",
      "\u001b[0;31mValueError\u001b[0m                                Traceback (most recent call last)",
      "\u001b[0;32m<ipython-input-80-acc3f995a553>\u001b[0m in \u001b[0;36m<module>\u001b[0;34m()\u001b[0m\n\u001b[1;32m      1\u001b[0m \u001b[0mgmm\u001b[0m \u001b[0;34m=\u001b[0m \u001b[0mGMM\u001b[0m\u001b[0;34m(\u001b[0m\u001b[0mn_components\u001b[0m\u001b[0;34m=\u001b[0m\u001b[0;36m4\u001b[0m\u001b[0;34m,\u001b[0m \u001b[0mrandom_state\u001b[0m\u001b[0;34m=\u001b[0m\u001b[0;36m42\u001b[0m\u001b[0;34m)\u001b[0m\u001b[0;34m\u001b[0m\u001b[0m\n\u001b[0;32m----> 2\u001b[0;31m \u001b[0mplot_gmm\u001b[0m\u001b[0;34m(\u001b[0m\u001b[0mgmm\u001b[0m\u001b[0;34m,\u001b[0m \u001b[0mX\u001b[0m\u001b[0;34m)\u001b[0m\u001b[0;34m\u001b[0m\u001b[0m\n\u001b[0m",
      "\u001b[0;32m<ipython-input-77-a1b89b8ffa7e>\u001b[0m in \u001b[0;36mplot_gmm\u001b[0;34m(gmm, X, label, ax)\u001b[0m\n\u001b[1;32m     10\u001b[0m     \u001b[0mw_factor\u001b[0m \u001b[0;34m=\u001b[0m \u001b[0;36m0.2\u001b[0m \u001b[0;34m/\u001b[0m \u001b[0mgmm\u001b[0m\u001b[0;34m.\u001b[0m\u001b[0mweights_\u001b[0m\u001b[0;34m.\u001b[0m\u001b[0mmax\u001b[0m\u001b[0;34m(\u001b[0m\u001b[0;34m)\u001b[0m\u001b[0;34m\u001b[0m\u001b[0m\n\u001b[1;32m     11\u001b[0m     \u001b[0;32mfor\u001b[0m \u001b[0mpos\u001b[0m\u001b[0;34m,\u001b[0m \u001b[0mcovar\u001b[0m\u001b[0;34m,\u001b[0m \u001b[0mw\u001b[0m \u001b[0;32min\u001b[0m \u001b[0mzip\u001b[0m\u001b[0;34m(\u001b[0m\u001b[0mgmm\u001b[0m\u001b[0;34m.\u001b[0m\u001b[0mmeans_\u001b[0m\u001b[0;34m,\u001b[0m \u001b[0mgmm\u001b[0m\u001b[0;34m.\u001b[0m\u001b[0mcovars_\u001b[0m\u001b[0;34m,\u001b[0m \u001b[0mgmm\u001b[0m\u001b[0;34m.\u001b[0m\u001b[0mweights_\u001b[0m\u001b[0;34m)\u001b[0m\u001b[0;34m:\u001b[0m\u001b[0;34m\u001b[0m\u001b[0m\n\u001b[0;32m---> 12\u001b[0;31m         \u001b[0mdraw_ellipse\u001b[0m\u001b[0;34m(\u001b[0m\u001b[0mpos\u001b[0m\u001b[0;34m,\u001b[0m \u001b[0mcovar\u001b[0m\u001b[0;34m,\u001b[0m \u001b[0malpha\u001b[0m\u001b[0;34m=\u001b[0m\u001b[0mw\u001b[0m \u001b[0;34m*\u001b[0m \u001b[0mw_factor\u001b[0m\u001b[0;34m)\u001b[0m\u001b[0;34m\u001b[0m\u001b[0m\n\u001b[0m",
      "\u001b[0;32m<ipython-input-76-906bbbc0a43f>\u001b[0m in \u001b[0;36mdraw_ellipse\u001b[0;34m(position, covariance, ax, **kwargs)\u001b[0m\n\u001b[1;32m     12\u001b[0m     \u001b[0;32melse\u001b[0m\u001b[0;34m:\u001b[0m\u001b[0;34m\u001b[0m\u001b[0m\n\u001b[1;32m     13\u001b[0m         \u001b[0mangle\u001b[0m \u001b[0;34m=\u001b[0m \u001b[0;36m0\u001b[0m\u001b[0;34m\u001b[0m\u001b[0m\n\u001b[0;32m---> 14\u001b[0;31m         \u001b[0mwidth\u001b[0m\u001b[0;34m,\u001b[0m \u001b[0mheight\u001b[0m \u001b[0;34m=\u001b[0m \u001b[0;36m2\u001b[0m \u001b[0;34m*\u001b[0m \u001b[0mnp\u001b[0m\u001b[0;34m.\u001b[0m\u001b[0msqrt\u001b[0m\u001b[0;34m(\u001b[0m\u001b[0mcovariance\u001b[0m\u001b[0;34m)\u001b[0m\u001b[0;34m\u001b[0m\u001b[0m\n\u001b[0m\u001b[1;32m     15\u001b[0m \u001b[0;34m\u001b[0m\u001b[0m\n\u001b[1;32m     16\u001b[0m     \u001b[0;31m# Draw the Ellipse\u001b[0m\u001b[0;34m\u001b[0m\u001b[0;34m\u001b[0m\u001b[0m\n",
      "\u001b[0;31mValueError\u001b[0m: too many values to unpack"
     ]
    },
    {
     "data": {
      "image/png": "[encoded data removed]",
      "text/plain": [
       "<Figure size 432x288 with 1 Axes>"
      ]
     },
     "metadata": {},
     "output_type": "display_data"
    }
   ],
   "source": [
    "gmm = GMM(n_components=4, random_state=42)\n",
    "plot_gmm(gmm, X)"
   ]
  },
  {
   "cell_type": "code",
   "execution_count": null,
   "metadata": {},
   "outputs": [],
   "source": []
  }
 ],
 "metadata": {
  "kernelspec": {
   "display_name": "Python 2",
   "language": "python",
   "name": "python2"
  },
  "language_info": {
   "codemirror_mode": {
    "name": "ipython",
    "version": 2
   },
   "file_extension": ".py",
   "mimetype": "text/x-python",
   "name": "python",
   "nbconvert_exporter": "python",
   "pygments_lexer": "ipython2",
   "version": "2.7.15"
  }
 },
 "nbformat": 4,
 "nbformat_minor": 2
}
